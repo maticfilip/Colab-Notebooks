{
  "nbformat": 4,
  "nbformat_minor": 0,
  "metadata": {
    "colab": {
      "provenance": []
    },
    "kernelspec": {
      "name": "python3",
      "display_name": "Python 3"
    },
    "language_info": {
      "name": "python"
    }
  },
  "cells": [
    {
      "cell_type": "code",
      "execution_count": null,
      "metadata": {
        "id": "6MMylRCaggx8"
      },
      "outputs": [],
      "source": [
        "import requests\n",
        "from bs4 import BeautifulSoup\n",
        "import csv\n",
        "import pandas as pd\n",
        "import json"
      ]
    },
    {
      "cell_type": "code",
      "source": [
        "import requests\n",
        "from bs4 import BeautifulSoup\n",
        "import json\n",
        "\n",
        "url = \"https://fbref.com/en/comps/9/Premier-League-Stats\"\n",
        "\n",
        "response = requests.get(url)\n",
        "\n",
        "if response.status_code != 200:\n",
        "    print(f\"Failed to fetch data. Status code: {response.status_code}\")\n",
        "    exit()\n",
        "\n",
        "soup = BeautifulSoup(response.text, 'html.parser')\n",
        "\n",
        "table = soup.find('table', {'class': 'stats_table'})\n",
        "\n",
        "headers = [header.text.strip() for header in table.find_all('th')[1:]]\n",
        "\n",
        "data = []\n",
        "\n",
        "for row in table.find_all('tr')[1:]:\n",
        "    cols = row.find_all('td')\n",
        "\n",
        "    if len(cols) > 0:\n",
        "        ranking = row.find('th').text.strip()\n",
        "\n",
        "        team_data = {\n",
        "            \"ranking\": ranking,\n",
        "            \"Team\": cols[0].text.strip(),\n",
        "            \"MP\": cols[1].text.strip(),\n",
        "            \"W\": cols[2].text.strip(),\n",
        "            \"D\": cols[3].text.strip(),\n",
        "            \"L\": cols[4].text.strip(),\n",
        "            \"GF\": cols[5].text.strip(),\n",
        "            \"GA\": cols[6].text.strip(),\n",
        "            \"GD\": cols[7].text.strip(),\n",
        "            \"Pts\": cols[8].text.strip(),\n",
        "            \"Pts/MP\":cols[9].text.strip(),\n",
        "            \"xG\":cols[10].text.strip(),\n",
        "            \"xGA\":cols[11].text.strip(),\n",
        "            \"xGD\":cols[12].text.strip(),\n",
        "            \"xGD/90\":cols[13].text.strip(),\n",
        "            \"Last 5\":cols[14].text.strip(),\n",
        "            \"Attendance\":cols[15].text.strip(),\n",
        "            \"Top Team Scorer\":cols[16].text.strip(),\n",
        "            \"Goalkeeper\":cols[17].text.strip(),\n",
        "            \"Notes\":cols[18].text.strip()\n",
        "        }\n",
        "\n",
        "        data.append(team_data)\n",
        "\n",
        "output_file = \"prem_stats_24_25.json\"\n",
        "with open(output_file, 'w', encoding='utf-8') as f:\n",
        "    json.dump(data, f, ensure_ascii=False, indent=4)\n",
        "\n",
        "print(f\"Data saved to {output_file}\")\n"
      ],
      "metadata": {
        "colab": {
          "base_uri": "https://localhost:8080/"
        },
        "id": "4wVFYylRgoFu",
        "outputId": "f30ae693-5f68-466c-984d-d084ace2fed5"
      },
      "execution_count": null,
      "outputs": [
        {
          "output_type": "stream",
          "name": "stdout",
          "text": [
            "Data saved to prem_stats_24_25.json\n"
          ]
        }
      ]
    },
    {
      "cell_type": "code",
      "source": [
        "import requests\n",
        "from bs4 import BeautifulSoup\n",
        "import json\n",
        "\n",
        "url = \"https://fbref.com/en/comps/9/2023-2024/2023-2024-Premier-League-Stats\"\n",
        "\n",
        "response = requests.get(url)\n",
        "\n",
        "if response.status_code != 200:\n",
        "    print(f\"Failed to fetch data. Status code: {response.status_code}\")\n",
        "    exit()\n",
        "\n",
        "soup = BeautifulSoup(response.text, 'html.parser')\n",
        "\n",
        "table = soup.find('table', {'class': 'stats_table'})\n",
        "\n",
        "headers = [header.text.strip() for header in table.find_all('th')[1:]]\n",
        "\n",
        "data = []\n",
        "\n",
        "for row in table.find_all('tr')[1:]:\n",
        "    cols = row.find_all('td')\n",
        "\n",
        "    if len(cols) > 0:\n",
        "        ranking = row.find('th').text.strip()\n",
        "\n",
        "        team_data = {\n",
        "            \"ranking\": ranking,\n",
        "            \"Team\": cols[0].text.strip(),\n",
        "            \"MP\": cols[1].text.strip(),\n",
        "            \"W\": cols[2].text.strip(),\n",
        "            \"D\": cols[3].text.strip(),\n",
        "            \"L\": cols[4].text.strip(),\n",
        "            \"GF\": cols[5].text.strip(),\n",
        "            \"GA\": cols[6].text.strip(),\n",
        "            \"GD\": cols[7].text.strip(),\n",
        "            \"Pts\": cols[8].text.strip(),\n",
        "            \"Pts/MP\":cols[9].text.strip(),\n",
        "            \"xG\":cols[10].text.strip(),\n",
        "            \"xGA\":cols[11].text.strip(),\n",
        "            \"xGD\":cols[12].text.strip(),\n",
        "            \"xGD/90\":cols[13].text.strip(),\n",
        "            \"Attendance\":cols[14].text.strip(),\n",
        "            \"Top Team Scorer\":cols[15].text.strip(),\n",
        "            \"Goalkeeper\":cols[16].text.strip(),\n",
        "            \"Notes\":cols[17].text.strip()\n",
        "        }\n",
        "\n",
        "        data.append(team_data)\n",
        "\n",
        "output_file = \"prem_stats_23_24.json\"\n",
        "with open(output_file, 'w', encoding='utf-8') as f:\n",
        "    json.dump(data, f, ensure_ascii=False, indent=4)\n",
        "\n",
        "print(f\"Data saved to {output_file}\")\n"
      ],
      "metadata": {
        "colab": {
          "base_uri": "https://localhost:8080/"
        },
        "id": "bCvEL2hDksoY",
        "outputId": "f8221d29-4eba-4e83-b965-bad7306ccd68"
      },
      "execution_count": null,
      "outputs": [
        {
          "output_type": "stream",
          "name": "stdout",
          "text": [
            "Data saved to prem_stats_23_24.json\n"
          ]
        }
      ]
    },
    {
      "cell_type": "code",
      "source": [
        "import requests\n",
        "from bs4 import BeautifulSoup\n",
        "import json\n",
        "\n",
        "url = \"https://fbref.com/en/comps/9/2022-2023/2022-2023-Premier-League-Stats\"\n",
        "\n",
        "response = requests.get(url)\n",
        "\n",
        "if response.status_code != 200:\n",
        "    print(f\"Failed to fetch data. Status code: {response.status_code}\")\n",
        "    exit()\n",
        "\n",
        "soup = BeautifulSoup(response.text, 'html.parser')\n",
        "\n",
        "table = soup.find('table', {'class': 'stats_table'})\n",
        "\n",
        "headers = [header.text.strip() for header in table.find_all('th')[1:]]\n",
        "\n",
        "data = []\n",
        "\n",
        "for row in table.find_all('tr')[1:]:\n",
        "    cols = row.find_all('td')\n",
        "\n",
        "    if len(cols) > 0:\n",
        "        ranking = row.find('th').text.strip()\n",
        "\n",
        "        team_data = {\n",
        "            \"ranking\": ranking,\n",
        "            \"Team\": cols[0].text.strip(),\n",
        "            \"MP\": cols[1].text.strip(),\n",
        "            \"W\": cols[2].text.strip(),\n",
        "            \"D\": cols[3].text.strip(),\n",
        "            \"L\": cols[4].text.strip(),\n",
        "            \"GF\": cols[5].text.strip(),\n",
        "            \"GA\": cols[6].text.strip(),\n",
        "            \"GD\": cols[7].text.strip(),\n",
        "            \"Pts\": cols[8].text.strip(),\n",
        "            \"Pts/MP\":cols[9].text.strip(),\n",
        "            \"xG\":cols[10].text.strip(),\n",
        "            \"xGA\":cols[11].text.strip(),\n",
        "            \"xGD\":cols[12].text.strip(),\n",
        "            \"xGD/90\":cols[13].text.strip(),\n",
        "            \"Attendance\":cols[14].text.strip(),\n",
        "            \"Top Team Scorer\":cols[15].text.strip(),\n",
        "            \"Goalkeeper\":cols[16].text.strip(),\n",
        "            \"Notes\":cols[17].text.strip()\n",
        "        }\n",
        "\n",
        "        data.append(team_data)\n",
        "\n",
        "output_file = \"prem_stats_22_23.json\"\n",
        "with open(output_file, 'w', encoding='utf-8') as f:\n",
        "    json.dump(data, f, ensure_ascii=False, indent=4)\n",
        "\n",
        "print(f\"Data saved to {output_file}\")\n"
      ],
      "metadata": {
        "colab": {
          "base_uri": "https://localhost:8080/"
        },
        "id": "-fF5A2n2vHl8",
        "outputId": "542aa04b-30c4-496c-9ca0-c2c8d1eb3cc7"
      },
      "execution_count": null,
      "outputs": [
        {
          "output_type": "stream",
          "name": "stdout",
          "text": [
            "Data saved to prem_stats_22_23.json\n"
          ]
        }
      ]
    },
    {
      "cell_type": "code",
      "source": [
        "import requests\n",
        "from bs4 import BeautifulSoup\n",
        "import json\n",
        "\n",
        "url = \"https://fbref.com/en/comps/9/2021-2022/2021-2022-Premier-League-Stats\"\n",
        "\n",
        "response = requests.get(url)\n",
        "\n",
        "if response.status_code != 200:\n",
        "    print(f\"Failed to fetch data. Status code: {response.status_code}\")\n",
        "    exit()\n",
        "\n",
        "soup = BeautifulSoup(response.text, 'html.parser')\n",
        "\n",
        "table = soup.find('table', {'class': 'stats_table'})\n",
        "\n",
        "headers = [header.text.strip() for header in table.find_all('th')[1:]]\n",
        "\n",
        "data = []\n",
        "\n",
        "for row in table.find_all('tr')[1:]:\n",
        "    cols = row.find_all('td')\n",
        "\n",
        "    if len(cols) > 0:\n",
        "        ranking = row.find('th').text.strip()\n",
        "\n",
        "        team_data = {\n",
        "            \"ranking\": ranking,\n",
        "            \"Team\": cols[0].text.strip(),\n",
        "            \"MP\": cols[1].text.strip(),\n",
        "            \"W\": cols[2].text.strip(),\n",
        "            \"D\": cols[3].text.strip(),\n",
        "            \"L\": cols[4].text.strip(),\n",
        "            \"GF\": cols[5].text.strip(),\n",
        "            \"GA\": cols[6].text.strip(),\n",
        "            \"GD\": cols[7].text.strip(),\n",
        "            \"Pts\": cols[8].text.strip(),\n",
        "            \"Pts/MP\":cols[9].text.strip(),\n",
        "            \"xG\":cols[10].text.strip(),\n",
        "            \"xGA\":cols[11].text.strip(),\n",
        "            \"xGD\":cols[12].text.strip(),\n",
        "            \"xGD/90\":cols[13].text.strip(),\n",
        "            \"Attendance\":cols[14].text.strip(),\n",
        "            \"Top Team Scorer\":cols[15].text.strip(),\n",
        "            \"Goalkeeper\":cols[16].text.strip(),\n",
        "            \"Notes\":cols[17].text.strip()\n",
        "        }\n",
        "\n",
        "        data.append(team_data)\n",
        "\n",
        "output_file = \"prem_stats_21_22.json\"\n",
        "with open(output_file, 'w', encoding='utf-8') as f:\n",
        "    json.dump(data, f, ensure_ascii=False, indent=4)\n",
        "\n",
        "print(f\"Data saved to {output_file}\")\n"
      ],
      "metadata": {
        "colab": {
          "base_uri": "https://localhost:8080/"
        },
        "id": "SvK6vkdzwMUh",
        "outputId": "ec1295d0-b01b-432a-9818-abe5df02486e"
      },
      "execution_count": null,
      "outputs": [
        {
          "output_type": "stream",
          "name": "stdout",
          "text": [
            "Data saved to prem_stats_21_22.json\n"
          ]
        }
      ]
    },
    {
      "cell_type": "code",
      "source": [],
      "metadata": {
        "id": "ivU5wgCEHor3"
      },
      "execution_count": null,
      "outputs": []
    }
  ]
}